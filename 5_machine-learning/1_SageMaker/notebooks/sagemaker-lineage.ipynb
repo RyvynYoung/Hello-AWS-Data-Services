{
 "cells": [
  {
   "cell_type": "markdown",
   "metadata": {},
   "source": [
    "# Amazon SageMaker Lineage\n",
    "Amazon SageMaker Lineage enables events that happen within SageMaker to be traced via a graph structure.  The data simplifies generating reports, making comparisons, or discovering relationships between events.  For example easily trace both how a model was generated and where the model was deployed. \n",
    "\n",
    "The lineage graph is created automatically by SageMaker and you can directly create or modify your own graphs.\n",
    "\n",
    "\n",
    "## Key Concepts\n",
    "\n",
    "* **Lineage Graph** - A connected graph tracing your machine learning workflow end to end. \n",
    "* **Artifacts** - Represents a URI addressable object or data.  Artifacts are typically inputs or outputs to Actions.  \n",
    "* **Actions**  - Represents an action taken such as a computation, transformation, or job.  \n",
    "* **Contexts** - Provides a method to logically group other entities.\n",
    "* **Associations** - A directed edge in the lineage graph that links two entities.\n",
    "* **Lineage Traversal** - Starting from an arbitrary point trace the lineage graph to discover and analyze relationships between steps in your workflow.\n",
    "* **Experiments** - Experiment entites (Experiments, Trials, and Trial Components) are also part of the lineage graph and can be associated wtih Artifacts, Actions, or Contexts.\n"
   ]
  },
  {
   "cell_type": "markdown",
   "metadata": {},
   "source": [
    "## Notebook Overview\n",
    "\n",
    "This notebook demonstrates how to:\n",
    "* Understand the basics of lineage entities.\n",
    "* Create and associate lineage entities to track your workflow.\n",
    "* Traverse the associations between lineage entities."
   ]
  },
  {
   "cell_type": "markdown",
   "metadata": {},
   "source": [
    "## Prerequisites\n",
    "\n",
    "Select the `Python 3 (Data Science)` kernel in SageMaker Studio."
   ]
  },
  {
   "cell_type": "code",
   "execution_count": 3,
   "metadata": {},
   "outputs": [],
   "source": [
    "import boto3\n",
    "import sagemaker\n",
    "\n",
    "region = boto3.Session().region_name\n",
    "sagemaker_session = sagemaker.session.Session()\n",
    "default_bucket = sagemaker_session.default_bucket()"
   ]
  },
  {
   "cell_type": "code",
   "execution_count": 4,
   "metadata": {},
   "outputs": [
    {
     "name": "stdout",
     "output_type": "stream",
     "text": [
      "Unique id is 1611007263\n"
     ]
    }
   ],
   "source": [
    "from datetime import datetime\n",
    "from sagemaker.lineage.context import Context\n",
    "from sagemaker.lineage.action import Action\n",
    "from sagemaker.lineage.association import Association\n",
    "from sagemaker.lineage.artifact import Artifact\n",
    "\n",
    "unique_id = str(int(datetime.now().replace(microsecond=0).timestamp()))\n",
    "\n",
    "print(f'Unique id is {unique_id}')"
   ]
  },
  {
   "cell_type": "code",
   "execution_count": 5,
   "metadata": {},
   "outputs": [],
   "source": [
    "# create an example context\n",
    "\n",
    "# the name must be unique across all other contexts\n",
    "context_name = f'machine-learning-workflow-{unique_id}' \n",
    "\n",
    "ml_workflow_context = Context.create(\n",
    "    context_name=context_name, \n",
    "    context_type='MLWorkflow',    \n",
    "    source_uri=unique_id,\n",
    "    # properties services as a method to store metdata on lineage entities in additional to Tags\n",
    "    properties={\"example\": \"true\"})"
   ]
  },
  {
   "cell_type": "code",
   "execution_count": 6,
   "metadata": {},
   "outputs": [
    {
     "name": "stdout",
     "output_type": "stream",
     "text": [
      "machine-learning-workflow-1611007263\n",
      "cnn-training-job-1611005254-aws-trainin-2021-01-18-21-53-19-965-1611006800-aws-endpoint\n",
      "sagemaker-clarify-endpoint-1610989163-2b51-1610989163-aws-endpoint\n",
      "sagemaker-clarify-endpoint-1610988304-d3e3-1610988304-aws-endpoint\n",
      "sagemaker-soln-explainingkk1t83vj-explainer-1610930735-aws-endpoint\n",
      "linear-learner-2021-01-17-23-44-07-787-1610927048-aws-endpoint\n"
     ]
    }
   ],
   "source": [
    "# list all the contexts\n",
    "\n",
    "contexts = Context.list(sort_by='CreationTime', sort_order='Descending')\n",
    "\n",
    "for ctx in contexts:\n",
    "    print(ctx.context_name)"
   ]
  },
  {
   "cell_type": "code",
   "execution_count": 7,
   "metadata": {},
   "outputs": [],
   "source": [
    "# create an example action and associate it with the context\n",
    "\n",
    "model_build_action = Action.create(\n",
    "    action_name=f\"model-build-step-{unique_id}\",\n",
    "    action_type=\"ModelBuild\",\n",
    "    source_uri=unique_id,\n",
    "    properties={\"Example\": \"Metadata\"},\n",
    ")"
   ]
  },
  {
   "cell_type": "code",
   "execution_count": 8,
   "metadata": {},
   "outputs": [],
   "source": [
    "# Association Type can be Produced|DerivedFrom|AssociatedWith|ContributedTo\n",
    "context_action_association = Association.create(\n",
    "    source_arn=ml_workflow_context.context_arn,\n",
    "    destination_arn=model_build_action.action_arn,\n",
    "    association_type='AssociatedWith'\n",
    ")"
   ]
  },
  {
   "cell_type": "code",
   "execution_count": 9,
   "metadata": {},
   "outputs": [
    {
     "name": "stdout",
     "output_type": "stream",
     "text": [
      "model-build-step-1611007263 has an incoming association from machine-learning-workflow-1611007263\n",
      "machine-learning-workflow-1611007263 has an outgoing association to model-build-step-1611007263\n"
     ]
    }
   ],
   "source": [
    "# now the Action and Context are associated:\n",
    "incoming_associations_to_action = Association.list(destination_arn=model_build_action.action_arn)\n",
    "for association in incoming_associations_to_action:\n",
    "    print(f'{model_build_action.action_name} has an incoming association from {association.source_name}')\n",
    "\n",
    "outgoing_associations_from_context = Association.list(source_arn=ml_workflow_context.context_arn)\n",
    "for association in outgoing_associations_from_context:\n",
    "    print(f'{ml_workflow_context.context_name} has an outgoing association to {association.destination_name}')"
   ]
  },
  {
   "cell_type": "code",
   "execution_count": 10,
   "metadata": {},
   "outputs": [],
   "source": [
    "# create an artifact representing inputs to the model building action\n",
    "input_test_images = Artifact.create(\n",
    "    artifact_name='mnist-test-images',\n",
    "    artifact_type='TestData',\n",
    "    source_types=[{\"SourceIdType\": \"Custom\", \"Value\": unique_id}],\n",
    "    source_uri='https://sagemaker-sample-files.s3.amazonaws.com/datasets/image/MNIST/t10k-images-idx3-ubyte.gz')\n",
    "\n",
    "input_test_labels = Artifact.create(\n",
    "    artifact_name='mnist-test-labels',\n",
    "    artifact_type='TestLabels',\n",
    "    source_types=[{\"SourceIdType\": \"Custom\", \"Value\": unique_id}],\n",
    "    source_uri='https://sagemaker-sample-files.s3.amazonaws.com/datasets/image/MNIST/t10k-labels-idx1-ubyte.gz')"
   ]
  },
  {
   "cell_type": "code",
   "execution_count": 11,
   "metadata": {},
   "outputs": [],
   "source": [
    "# create an artifact representing a trained model\n",
    "output_model = Artifact.create(\n",
    "    artifact_name='mnist-model',\n",
    "    artifact_type='Model',\n",
    "    source_types=[{\"SourceIdType\": \"Custom\", \"Value\": unique_id}],\n",
    "    source_uri='s3://sagemaker-sample-files.s3.amazonaws.com/datasets/image/MNIST/model/tensorflow-training-2020-11-20-23-57-13-077/model.tar.gz'\n",
    ")"
   ]
  },
  {
   "cell_type": "code",
   "execution_count": 12,
   "metadata": {},
   "outputs": [
    {
     "data": {
      "text/plain": [
       "Association(sagemaker_session=<sagemaker.session.Session object at 0x7fb8c1eb2588>,source_arn='arn:aws:sagemaker:us-east-1:785827323309:artifact/5cc1e56234475c4809e4bb47ec94d209',destination_arn='arn:aws:sagemaker:us-east-1:785827323309:action/model-build-step-1611007263',association_type=None,response_metadata={'RequestId': '2788aebb-4d69-4063-a1c2-9ed86f85f74c', 'HTTPStatusCode': 200, 'HTTPHeaders': {'x-amzn-requestid': '2788aebb-4d69-4063-a1c2-9ed86f85f74c', 'content-type': 'application/x-amz-json-1.1', 'content-length': '193', 'date': 'Mon, 18 Jan 2021 22:01:34 GMT'}, 'RetryAttempts': 0})"
      ]
     },
     "execution_count": 12,
     "metadata": {},
     "output_type": "execute_result"
    }
   ],
   "source": [
    "# associate the data set artifact with an incoming association to the example action\n",
    "Association.create(source_arn=input_test_images.artifact_arn, destination_arn=model_build_action.action_arn)\n",
    "Association.create(source_arn=input_test_labels.artifact_arn, destination_arn=model_build_action.action_arn)"
   ]
  },
  {
   "cell_type": "code",
   "execution_count": 13,
   "metadata": {},
   "outputs": [
    {
     "data": {
      "text/plain": [
       "Association(sagemaker_session=<sagemaker.session.Session object at 0x7fb8c3af52e8>,source_arn='arn:aws:sagemaker:us-east-1:785827323309:action/model-build-step-1611007263',destination_arn='arn:aws:sagemaker:us-east-1:785827323309:artifact/88639fa4cbf9301c0a4affc9ce3dc288',association_type=None,response_metadata={'RequestId': 'f310890e-639f-4199-8eee-b4577155e2e0', 'HTTPStatusCode': 200, 'HTTPHeaders': {'x-amzn-requestid': 'f310890e-639f-4199-8eee-b4577155e2e0', 'content-type': 'application/x-amz-json-1.1', 'content-length': '193', 'date': 'Mon, 18 Jan 2021 22:01:39 GMT'}, 'RetryAttempts': 0})"
      ]
     },
     "execution_count": 13,
     "metadata": {},
     "output_type": "execute_result"
    }
   ],
   "source": [
    "# associate the example action with an outgoing association to the model artifact\n",
    "Association.create(source_arn=model_build_action.action_arn, destination_arn=output_model.artifact_arn)"
   ]
  },
  {
   "cell_type": "markdown",
   "metadata": {},
   "source": [
    "## Cleanup"
   ]
  },
  {
   "cell_type": "code",
   "execution_count": null,
   "metadata": {},
   "outputs": [],
   "source": [
    "def delete_associations(arn):\n",
    "    # delete incoming associations\n",
    "    incoming_associations = Association.list(destination_arn=arn)\n",
    "    for summary in incoming_associations:\n",
    "        assct = Association(\n",
    "            source_arn=summary.source_arn, \n",
    "            destination_arn=summary.destination_arn,\n",
    "            sagemaker_session=sagemaker_session)\n",
    "        assct.delete()\n",
    "    \n",
    "    # delete outgoing associations\n",
    "    outgoing_associations = Association.list(source_arn=arn)\n",
    "    for summary in outgoing_associations:\n",
    "        assct = Association(\n",
    "            source_arn=summary.source_arn, \n",
    "            destination_arn=summary.destination_arn,\n",
    "            sagemaker_session=sagemaker_session)\n",
    "        assct.delete()\n",
    "\n",
    "def delete_lineage_data():\n",
    "    for summary in Context.list():\n",
    "        print(f'Deleting context {summary.context_name}')\n",
    "        delete_associations(summary.context_arn)\n",
    "        ctx = Context(context_name=summary.context_name, sagemaker_session=sagemaker_session)\n",
    "        ctx.delete()\n",
    "\n",
    "    for summary in Action.list():\n",
    "        print(f'Deleting action {summary.action_name}')\n",
    "        delete_associations(summary.action_arn)\n",
    "        actn = Action(action_name=summary.action_name, sagemaker_session=sagemaker_session)\n",
    "        actn.delete()\n",
    "\n",
    "    for summary in Artifact.list():\n",
    "        print(f'Deleting artifact {summary.artifact_arn} {summary.artifact_name}')\n",
    "        delete_associations(summary.artifact_arn)\n",
    "        artfct = Artifact(artifact_arn=summary.artifact_arn, sagemaker_session=sagemaker_session)\n",
    "        artfct.delete()\n",
    "\n",
    "delete_lineage_data()"
   ]
  },
  {
   "cell_type": "markdown",
   "metadata": {},
   "source": [
    "## Caveats\n",
    "\n",
    "* Associations cannot be created between two experiment entities. For example between an Experiment and Trial.\n",
    "* Associations can only be created between the following resources: Experiment, Trial, Trial Component, Action, Artifact, or Context.\n",
    "* The maximum number of manually created lineage entities are:\n",
    "  * Artifacts: 6000\n",
    "  * Contexts: 500\n",
    "  * Actions: 3000\n",
    "  * Associations: 6000\n",
    "* There is no limit on the number of lineage entities created automatically by SageMaker."
   ]
  },
  {
   "cell_type": "markdown",
   "metadata": {},
   "source": [
    "## Contact\n",
    "\n",
    "Submit any questions or issues to https://github.com/aws/sagemaker-experiments/issues or mention @aws/sagemakerexperimentsadmin"
   ]
  }
 ],
 "metadata": {
  "kernelspec": {
   "display_name": "conda_python3",
   "language": "python",
   "name": "conda_python3"
  },
  "language_info": {
   "codemirror_mode": {
    "name": "ipython",
    "version": 3
   },
   "file_extension": ".py",
   "mimetype": "text/x-python",
   "name": "python",
   "nbconvert_exporter": "python",
   "pygments_lexer": "ipython3",
   "version": "3.6.10"
  }
 },
 "nbformat": 4,
 "nbformat_minor": 4
}
